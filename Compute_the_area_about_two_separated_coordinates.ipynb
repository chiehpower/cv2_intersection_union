{
 "cells": [
  {
   "cell_type": "code",
   "execution_count": 1,
   "metadata": {},
   "outputs": [],
   "source": [
    "import cv2\n",
    "import numpy as np"
   ]
  },
  {
   "cell_type": "markdown",
   "metadata": {},
   "source": [
    "I wanna talk a topic about that if there are two parts of area in your coordinate such as the tires of a bike which are two parts of area for one single object, can we directly compute them? or we need to separate to calculate them?"
   ]
  },
  {
   "cell_type": "markdown",
   "metadata": {},
   "source": [
    "For our data, I separated the `xy_twostart` to two parts by \"start\" and \"end\", `xy_onestart_1` and `xy_onestart_2`. <p>\n",
    "```\n",
    "xy_twostart = xy_onestart_1 + xy_onestart_2\n",
    "```"
   ]
  },
  {
   "cell_type": "code",
   "execution_count": 2,
   "metadata": {},
   "outputs": [
    {
     "name": "stdout",
     "output_type": "stream",
     "text": [
      "Only first part of one start case\n",
      "There is 1 start.\n",
      "237.0\n",
      "---------\n",
      "Only second part of one start case\n",
      "There is 1 start.\n",
      "10313.5\n"
     ]
    }
   ],
   "source": [
    "# First we will load the file and read the x y points. Then compute the area\n",
    "print(\"Only first part of one start case\")\n",
    "with open(\"assets/xy_onestart_1.txt\", \"r\") as xy:\n",
    "    all_lines = xy.readlines()\n",
    "    order = 0\n",
    "    start = 0\n",
    "    new_lines = []\n",
    "    for i in all_lines:\n",
    "        i = i.split(\"\\n\")[0].split(\",\")\n",
    "        if i[0] == '#start':\n",
    "            start += 1\n",
    "            continue\n",
    "        elif i[0] == '#end':\n",
    "            continue\n",
    "        else:\n",
    "            i[0] = int(i[0])\n",
    "            i[1] = int(i[1])\n",
    "            new_lines.append(i)\n",
    "            order += 1\n",
    "\n",
    "new_lines = np.array(new_lines)\n",
    "\n",
    "# Check how many start in one object file.\n",
    "if start == 1:\n",
    "    print(\"There is\", start, \"start.\")\n",
    "elif start != 1:\n",
    "    print(\"There are\", start, \"startS.\")\n",
    "\n",
    "area = cv2.contourArea(new_lines)\n",
    "\n",
    "print(area)\n",
    "print(\"---------\")\n",
    "\n",
    "print(\"Only second part of one start case\")\n",
    "with open(\"assets/xy_onestart_2.txt\", \"r\") as xy:\n",
    "    all_lines = xy.readlines()\n",
    "    order = 0\n",
    "    start = 0\n",
    "    new_lines = []\n",
    "    for i in all_lines:\n",
    "        i = i.split(\"\\n\")[0].split(\",\")\n",
    "        if i[0] == '#start':\n",
    "            start += 1\n",
    "            continue\n",
    "        elif i[0] == '#end':\n",
    "            continue\n",
    "        else:\n",
    "            i[0] = int(i[0])\n",
    "            i[1] = int(i[1])\n",
    "            new_lines.append(i)\n",
    "            order += 1\n",
    "\n",
    "new_lines = np.array(new_lines)\n",
    "\n",
    "# Check how many start in one object file.\n",
    "if start == 1:\n",
    "    print(\"There is\", start, \"start.\")\n",
    "elif start != 1:\n",
    "    print(\"There are\", start, \"startS.\")\n",
    "\n",
    "area = cv2.contourArea(new_lines)\n",
    "\n",
    "print(area)"
   ]
  },
  {
   "cell_type": "code",
   "execution_count": 3,
   "metadata": {},
   "outputs": [
    {
     "name": "stdout",
     "output_type": "stream",
     "text": [
      "Two start case\n",
      "There are 2 startS.\n",
      "10442.5\n",
      "\n",
      "So we can know that it will get wrong if you directly compute the two parts of area.\n"
     ]
    }
   ],
   "source": [
    "print(\"Two start case\")\n",
    "with open(\"assets/xy_twostart.txt\", \"r\") as xy:\n",
    "    all_lines = xy.readlines()\n",
    "    order = 0\n",
    "    start = 0\n",
    "    new_lines = []\n",
    "    for i in all_lines:\n",
    "        i = i.split(\"\\n\")[0].split(\",\")\n",
    "        if i[0] == '#start':\n",
    "            start += 1\n",
    "            continue\n",
    "        elif i[0] == '#end':\n",
    "            continue\n",
    "        else:\n",
    "            i[0] = int(i[0])\n",
    "            i[1] = int(i[1])\n",
    "            new_lines.append(i)\n",
    "            order += 1\n",
    "\n",
    "    new_lines = np.array(new_lines)\n",
    "\n",
    "    # Check how many start in one object file.\n",
    "    if start == 1:\n",
    "        print(\"There is\", start, \"start.\")\n",
    "    elif start != 1:\n",
    "        print(\"There are\", start, \"startS.\")\n",
    "\n",
    "    area = cv2.contourArea(new_lines)\n",
    "\n",
    "    print(area)\n",
    "\n",
    "\n",
    "print(\"\\nSo we can know that it will get wrong if you directly compute the two parts of area.\")"
   ]
  }
 ],
 "metadata": {
  "kernelspec": {
   "display_name": "Python 3",
   "language": "python",
   "name": "python3"
  },
  "language_info": {
   "codemirror_mode": {
    "name": "ipython",
    "version": 3
   },
   "file_extension": ".py",
   "mimetype": "text/x-python",
   "name": "python",
   "nbconvert_exporter": "python",
   "pygments_lexer": "ipython3",
   "version": "3.6.5"
  }
 },
 "nbformat": 4,
 "nbformat_minor": 2
}
