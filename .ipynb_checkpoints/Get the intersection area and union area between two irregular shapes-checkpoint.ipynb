{
 "cells": [
  {
   "cell_type": "markdown",
   "metadata": {},
   "source": [
    "# Goal: Get the intersection area and union area between two irregular shapes.\n",
    "<p>\n",
    "<center>Author: Chieh</center>\n",
    "<p>    \n",
    "> 目標: 可以讓兩個不規則形狀的圖形求得交集和聯集\n",
    "\n"
   ]
  },
  {
   "cell_type": "code",
   "execution_count": 1,
   "metadata": {},
   "outputs": [],
   "source": [
    "import cv2\n",
    "import numpy as np\n",
    "from matplotlib import pyplot as plt\n",
    "import cv2\n",
    "%matplotlib inline\n",
    "\n",
    "# It can output all of lines of array.\n",
    "np.set_printoptions(threshold=np.inf)"
   ]
  },
  {
   "cell_type": "markdown",
   "metadata": {},
   "source": [
    "Load the images"
   ]
  },
  {
   "cell_type": "code",
   "execution_count": 2,
   "metadata": {},
   "outputs": [
    {
     "data": {
      "image/png": "[encoded data removed]",
      "text/plain": [
       "<Figure size 432x288 with 2 Axes>"
      ]
     },
     "metadata": {},
     "output_type": "display_data"
    }
   ],
   "source": [
    "img= cv2.imread('assets/sample1.png')\n",
    "img2 = cv2.imread('assets/sample2.png')\n",
    "# plt.imshow(img2)\n",
    "assert img is not None, \"Importing img fail.\"\n",
    "assert img2 is not None, \"Importing img fail.\"\n",
    "\n",
    "titles = ['sample1.png','sample2.png']\n",
    "images = [img,img2]\n",
    "for i in range(2):\n",
    "    plt.subplot(1,2,i+1),plt.imshow(images[i])\n",
    "    plt.title(titles[i])\n",
    "    plt.xticks([]),plt.yticks([])\n",
    "plt.show()"
   ]
  },
  {
   "cell_type": "markdown",
   "metadata": {},
   "source": [
    "### Introduce the `cv2.threshold` function\n",
    "cv2.threshold (src, thresh, maxval, type)\n",
    "> https://blog.csdn.net/JNingWei/article/details/77747959"
   ]
  },
  {
   "cell_type": "code",
   "execution_count": 3,
   "metadata": {},
   "outputs": [],
   "source": [
    "ret1, th1 = cv2.threshold(img,127,255,cv2.THRESH_BINARY)\n",
    "ret2, th2 = cv2.threshold(img2,127,255,cv2.THRESH_BINARY)\n",
    "th3 = th1+th2"
   ]
  },
  {
   "cell_type": "markdown",
   "metadata": {},
   "source": [
    "After we did the cv2.threshold, the array remained the value of 0 and 255."
   ]
  },
  {
   "cell_type": "code",
   "execution_count": 4,
   "metadata": {},
   "outputs": [
    {
     "name": "stdout",
     "output_type": "stream",
     "text": [
      "th1 [  0 255]\n",
      "th2 [  0 255]\n"
     ]
    }
   ],
   "source": [
    "print(\"th1\",np.unique(th1))\n",
    "print(\"th2\",np.unique(th2))"
   ]
  },
  {
   "cell_type": "markdown",
   "metadata": {},
   "source": [
    "Now we combined th1 and th2, and to see how th3 is going."
   ]
  },
  {
   "cell_type": "code",
   "execution_count": 5,
   "metadata": {},
   "outputs": [
    {
     "data": {
      "image/png": "[encoded data removed]",
      "text/plain": [
       "<Figure size 432x288 with 3 Axes>"
      ]
     },
     "metadata": {},
     "output_type": "display_data"
    }
   ],
   "source": [
    "titles = ['20190604-093334_78.png','12-20_10-13-05_720.png','Both']\n",
    "images = [th1,th2,th3]\n",
    "for i in range(3):\n",
    "    plt.subplot(2,2,i+1),plt.imshow(images[i])\n",
    "    plt.title(titles[i])\n",
    "    plt.xticks([]),plt.yticks([])\n",
    "plt.show()"
   ]
  },
  {
   "cell_type": "markdown",
   "metadata": {},
   "source": [
    "After we combined the th1 and th2, we could see the th3 which got the three kinds of values including 0, 254, 255."
   ]
  },
  {
   "cell_type": "code",
   "execution_count": 6,
   "metadata": {},
   "outputs": [
    {
     "data": {
      "text/plain": [
       "array([  0, 254, 255], dtype=uint8)"
      ]
     },
     "execution_count": 6,
     "metadata": {},
     "output_type": "execute_result"
    }
   ],
   "source": [
    "np.max(th3)\n",
    "np.unique(th3)"
   ]
  },
  {
   "cell_type": "markdown",
   "metadata": {},
   "source": [
    "Now we try to let the 254 value be 0.\n",
    "\n",
    "We copy an array as same as th3."
   ]
  },
  {
   "cell_type": "code",
   "execution_count": 7,
   "metadata": {},
   "outputs": [],
   "source": [
    "ret1, th1 = cv2.threshold(img,127,255,cv2.THRESH_BINARY)\n",
    "ret2, th2 = cv2.threshold(img2,127,255,cv2.THRESH_BINARY)\n",
    "th3 = th1+th2\n",
    "th4 = th3.copy()\n",
    "for i in range(len(th3)):\n",
    "    for j in range(len(th3[i])):\n",
    "        for k in range(len(th3[i][j])):\n",
    "            if th3[i][j][k] == 254:\n",
    "                th4[i][j][k] = 0"
   ]
  },
  {
   "cell_type": "code",
   "execution_count": 8,
   "metadata": {},
   "outputs": [
    {
     "data": {
      "text/plain": [
       "array([  0, 255], dtype=uint8)"
      ]
     },
     "execution_count": 8,
     "metadata": {},
     "output_type": "execute_result"
    }
   ],
   "source": [
    "np.unique(th4)"
   ]
  },
  {
   "cell_type": "markdown",
   "metadata": {},
   "source": [
    "See the result of th4 which is organized by 0 and 255."
   ]
  },
  {
   "cell_type": "code",
   "execution_count": 9,
   "metadata": {},
   "outputs": [
    {
     "data": {
      "text/plain": [
       "<matplotlib.image.AxesImage at 0x121b50400>"
      ]
     },
     "execution_count": 9,
     "metadata": {},
     "output_type": "execute_result"
    },
    {
     "data": {
      "image/png": "[encoded data removed]",
      "text/plain": [
       "<Figure size 432x288 with 1 Axes>"
      ]
     },
     "metadata": {
      "needs_background": "light"
     },
     "output_type": "display_data"
    }
   ],
   "source": [
    "plt.imshow(th4)"
   ]
  },
  {
   "cell_type": "markdown",
   "metadata": {},
   "source": [
    "So we can know the intersection area is 255, and the white area is 254."
   ]
  },
  {
   "cell_type": "code",
   "execution_count": 10,
   "metadata": {},
   "outputs": [],
   "source": [
    "ret1, th1 = cv2.threshold(img,127,255,cv2.THRESH_BINARY)\n",
    "ret2, th2 = cv2.threshold(img2,127,255,cv2.THRESH_BINARY)\n",
    "th3 = th1+th2\n",
    "th5 = th3.copy()\n",
    "for i in range(len(th3)):\n",
    "    for j in range(len(th3[i])):\n",
    "        for k in range(len(th3[i][j])):\n",
    "            if th3[i][j][k] == 255:\n",
    "                th5[i][j][k] = 0"
   ]
  },
  {
   "cell_type": "code",
   "execution_count": 11,
   "metadata": {},
   "outputs": [
    {
     "data": {
      "text/plain": [
       "array([  0, 254], dtype=uint8)"
      ]
     },
     "execution_count": 11,
     "metadata": {},
     "output_type": "execute_result"
    }
   ],
   "source": [
    "np.unique(th5)"
   ]
  },
  {
   "cell_type": "markdown",
   "metadata": {},
   "source": [
    "OK, so we can get the Union area (254)."
   ]
  },
  {
   "cell_type": "code",
   "execution_count": 12,
   "metadata": {},
   "outputs": [
    {
     "data": {
      "text/plain": [
       "<matplotlib.image.AxesImage at 0x121bbc748>"
      ]
     },
     "execution_count": 12,
     "metadata": {},
     "output_type": "execute_result"
    },
    {
     "data": {
      "image/png": "[encoded data removed]",
      "text/plain": [
       "<Figure size 432x288 with 1 Axes>"
      ]
     },
     "metadata": {
      "needs_background": "light"
     },
     "output_type": "display_data"
    }
   ],
   "source": [
    "plt.imshow(th5)"
   ]
  },
  {
   "cell_type": "markdown",
   "metadata": {},
   "source": [
    "# Compute the area"
   ]
  },
  {
   "cell_type": "code",
   "execution_count": 13,
   "metadata": {},
   "outputs": [
    {
     "data": {
      "image/png": "[encoded data removed]",
      "text/plain": [
       "<Figure size 432x288 with 2 Axes>"
      ]
     },
     "metadata": {},
     "output_type": "display_data"
    }
   ],
   "source": [
    "titles = ['Union (th3)','Intersection (th5)']\n",
    "images = [th3,th5]\n",
    "for i in range(2):\n",
    "    plt.subplot(1,2,i+1),plt.imshow(images[i])\n",
    "    plt.title(titles[i])\n",
    "    plt.xticks([]),plt.yticks([])\n",
    "plt.show()"
   ]
  },
  {
   "cell_type": "markdown",
   "metadata": {},
   "source": [
    "## Steps\n",
    "1. We need to use `cv2.cvtColor` function to let th5 be a 2D array.\n",
    "2. (Option) We can use `cv2.threshold` to let the array be 0 or 255 again. Because if your array is union, your original array is not binary value.\n",
    "3. We use `cv2.findContours` to find the contour of image. \n",
    "4. Use `cv2.contourArea` to compute the area of contour."
   ]
  },
  {
   "cell_type": "markdown",
   "metadata": {},
   "source": [
    "# Intersection Area\n",
    "if your array (Such as th5) already is binary, you can skip the second step. Directly go the step from 1 to 3."
   ]
  },
  {
   "cell_type": "code",
   "execution_count": 14,
   "metadata": {},
   "outputs": [
    {
     "data": {
      "text/plain": [
       "array([  0, 254], dtype=uint8)"
      ]
     },
     "execution_count": 14,
     "metadata": {},
     "output_type": "execute_result"
    }
   ],
   "source": [
    "np.unique(th5)"
   ]
  },
  {
   "cell_type": "code",
   "execution_count": 20,
   "metadata": {},
   "outputs": [
    {
     "name": "stdout",
     "output_type": "stream",
     "text": [
      "[[[35 10]]\n",
      "\n",
      " [[31 14]]\n",
      "\n",
      " [[31 15]]\n",
      "\n",
      " [[23 23]]\n",
      "\n",
      " [[23 24]]\n",
      "\n",
      " [[16 31]]\n",
      "\n",
      " [[16 32]]\n",
      "\n",
      " [[13 35]]\n",
      "\n",
      " [[13 36]]\n",
      "\n",
      " [[14 37]]\n",
      "\n",
      " [[14 38]]\n",
      "\n",
      " [[16 40]]\n",
      "\n",
      " [[16 41]]\n",
      "\n",
      " [[18 43]]\n",
      "\n",
      " [[18 44]]\n",
      "\n",
      " [[19 45]]\n",
      "\n",
      " [[20 45]]\n",
      "\n",
      " [[20 44]]\n",
      "\n",
      " [[27 37]]\n",
      "\n",
      " [[27 36]]\n",
      "\n",
      " [[34 29]]\n",
      "\n",
      " [[34 28]]\n",
      "\n",
      " [[35 27]]\n",
      "\n",
      " [[36 27]]\n",
      "\n",
      " [[36 26]]\n",
      "\n",
      " [[42 20]]\n",
      "\n",
      " [[42 19]]\n",
      "\n",
      " [[40 17]]\n",
      "\n",
      " [[40 16]]\n",
      "\n",
      " [[38 14]]\n",
      "\n",
      " [[38 13]]\n",
      "\n",
      " [[36 11]]\n",
      "\n",
      " [[36 10]]]\n",
      "Intersection (th5) area is 398.5.\n"
     ]
    }
   ],
   "source": [
    "th5_gray = cv2.cvtColor(th5, cv2.COLOR_BGR2GRAY) # th5_gray is 2D array.\n",
    "contours5, hierarchy5 = cv2.findContours(\n",
    "     th5_gray, cv2.RETR_TREE, cv2.CHAIN_APPROX_SIMPLE)\n",
    "\n",
    "cnt5 = contours5[0]\n",
    "area5 = cv2.contourArea(cnt5)\n",
    "print(\"Intersection (th5) area is {}.\".format(area5))"
   ]
  },
  {
   "cell_type": "markdown",
   "metadata": {},
   "source": [
    "# Union Area\n",
    "Let's see the Union area. \n",
    "\n",
    "**Be careful about Union (th3) which is not binary value.**"
   ]
  },
  {
   "cell_type": "code",
   "execution_count": 16,
   "metadata": {},
   "outputs": [
    {
     "data": {
      "text/plain": [
       "array([  0, 254, 255], dtype=uint8)"
      ]
     },
     "execution_count": 16,
     "metadata": {},
     "output_type": "execute_result"
    }
   ],
   "source": [
    "np.unique(th3)"
   ]
  },
  {
   "cell_type": "markdown",
   "metadata": {},
   "source": [
    "1. We skip the step of `cv2.threshold`, and directly find the contour."
   ]
  },
  {
   "cell_type": "code",
   "execution_count": 17,
   "metadata": {},
   "outputs": [
    {
     "name": "stdout",
     "output_type": "stream",
     "text": [
      "Union (th3) area is 1887.0.\n"
     ]
    }
   ],
   "source": [
    "th3_gray = cv2.cvtColor(th3, cv2.COLOR_BGR2GRAY)\n",
    "contours3, hierarchy3 = cv2.findContours(th3_gray, cv2.RETR_TREE, cv2.CHAIN_APPROX_SIMPLE)\n",
    "\n",
    "cnt3 = contours3[0]\n",
    "area3 = cv2.contourArea(cnt3)\n",
    "print(\"Union (th3) area is {}.\".format(area3))"
   ]
  },
  {
   "cell_type": "markdown",
   "metadata": {},
   "source": [
    "2. We did the step of `cv2.threshold` again, and then find the contour."
   ]
  },
  {
   "cell_type": "code",
   "execution_count": 18,
   "metadata": {},
   "outputs": [
    {
     "name": "stdout",
     "output_type": "stream",
     "text": [
      "Union (th3) area is 1887.0.\n"
     ]
    }
   ],
   "source": [
    "th3_gray_thr = cv2.cvtColor(th3, cv2.COLOR_BGR2GRAY)\n",
    "ret3_thr, th3_gray_binary_thr = cv2.threshold(th3_gray_thr,127,255,cv2.THRESH_BINARY)\n",
    "contours3_thr, hierarchy3_thr = cv2.findContours(th3_gray_binary_thr, cv2.RETR_TREE, cv2.CHAIN_APPROX_SIMPLE)\n",
    "cnt3_thr = contours3_thr[0]\n",
    "area3_thr = cv2.contourArea(cnt3_thr)\n",
    "print(\"Union (th3) area is {}.\".format(area3_thr)) "
   ]
  },
  {
   "cell_type": "code",
   "execution_count": 19,
   "metadata": {},
   "outputs": [
    {
     "name": "stdout",
     "output_type": "stream",
     "text": [
      "This is first case, np.unique(th3_gray) : [  0 254 255].\n",
      "This is second case, np.unique(th3_gray_thr) : [  0 254 255].\n",
      "This is second case, np.unique(th3_gray_binary_thr) : [  0 255].\n"
     ]
    }
   ],
   "source": [
    "print(\"This is first case, np.unique(th3_gray) : {}.\".format(np.unique(th3_gray)))\n",
    "print(\"This is second case, np.unique(th3_gray_thr) : {}.\".format(np.unique(th3_gray_thr)))\n",
    "print(\"This is second case, np.unique(th3_gray_binary_thr) : {}.\".format(np.unique(th3_gray_binary_thr)))"
   ]
  },
  {
   "cell_type": "markdown",
   "metadata": {},
   "source": [
    "As the result above, it looks no difference."
   ]
  }
 ],
 "metadata": {
  "hide_input": false,
  "kernelspec": {
   "display_name": "Python 3",
   "language": "python",
   "name": "python3"
  },
  "language_info": {
   "codemirror_mode": {
    "name": "ipython",
    "version": 3
   },
   "file_extension": ".py",
   "mimetype": "text/x-python",
   "name": "python",
   "nbconvert_exporter": "python",
   "pygments_lexer": "ipython3",
   "version": "3.7.2"
  },
  "varInspector": {
   "cols": {
    "lenName": 16,
    "lenType": 16,
    "lenVar": 40
   },
   "kernels_config": {
    "python": {
     "delete_cmd_postfix": "",
     "delete_cmd_prefix": "del ",
     "library": "var_list.py",
     "varRefreshCmd": "print(var_dic_list())"
    },
    "r": {
     "delete_cmd_postfix": ") ",
     "delete_cmd_prefix": "rm(",
     "library": "var_list.r",
     "varRefreshCmd": "cat(var_dic_list()) "
    }
   },
   "types_to_exclude": [
    "module",
    "function",
    "builtin_function_or_method",
    "instance",
    "_Feature"
   ],
   "window_display": false
  }
 },
 "nbformat": 4,
 "nbformat_minor": 2
}
